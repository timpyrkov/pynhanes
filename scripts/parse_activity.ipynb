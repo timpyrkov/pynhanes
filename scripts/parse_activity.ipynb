{
 "cells": [
  {
   "cell_type": "code",
   "execution_count": 1,
   "metadata": {},
   "outputs": [],
   "source": [
    "%reload_ext autoreload\n",
    "%autoreload 2\n",
    "\n",
    "import numpy as np\n",
    "import pylab as plt\n",
    "import pynhanes"
   ]
  },
  {
   "cell_type": "markdown",
   "metadata": {},
   "source": [
    "## Physical Activity 2003-2006 \n",
    "\n",
    "1. Loads `PAXRAW_C.XPT` and `PAXRAW_D.XPT` from `./XPT` folder\n",
    "2. Outputs 7-day activity counts to `nhanes_counts.npz` in `./NPZ` folder\n",
    "2. Outputs 7-day step counts to `nhanes_steps.npz` in `./NPZ` folder"
   ]
  },
  {
   "cell_type": "code",
   "execution_count": null,
   "metadata": {},
   "outputs": [],
   "source": [
    "pynhanes.activity.paxraw_parser(\"./XPT\", \"./NPZ\")"
   ]
  },
  {
   "cell_type": "markdown",
   "metadata": {},
   "source": [
    "## Physical Activity 2011-2014\n",
    "\n",
    "1. Loads `PAXMIN_G.XPT` and `PAXMIN_H.XPT` from `./XPT` folder\n",
    "2. Outputs up to 8-day activity (triaxial) counts to `nhanes_triax_full.npz` in `./NPZ` folder\n",
    "2. Outputs 7-day activity (triaxial) counts to `nhanes_triax.npz` in `./NPZ` folder"
   ]
  },
  {
   "cell_type": "code",
   "execution_count": null,
   "metadata": {},
   "outputs": [],
   "source": [
    "pynhanes.activity.paxmin_parser(\"./XPT\", \"./NPZ\")"
   ]
  },
  {
   "cell_type": "markdown",
   "metadata": {},
   "source": [
    "## Plot triaxial average weekly activity"
   ]
  },
  {
   "cell_type": "code",
   "execution_count": null,
   "metadata": {},
   "outputs": [],
   "source": [
    "xnpz = np.load(\"NPZ/nhanes_triax.npz\")\n",
    "for file in xnpz:\n",
    "    print(file, xnpz[file].shape, xnpz[file].dtype, xnpz[file].min())\n",
    "print(np.unique(xnpz[\"categ\"]))\n",
    "\n",
    "mask = xnpz[\"categ\"] > 0\n",
    "plt.figure(figsize=(36,12), facecolor=\"white\")\n",
    "plt.subplot(211)\n",
    "plt.title(\"Accelerometry\")\n",
    "x = xnpz[\"triax\"].astype(float)\n",
    "x[~mask] = np.nan\n",
    "x = np.nanmean(x, axis=0)\n",
    "plt.plot(x)\n",
    "plt.subplot(212)\n",
    "plt.title(\"Ambient light (lux)\")\n",
    "x = xnpz[\"lumin\"].astype(float)\n",
    "x[~mask] = np.nan\n",
    "x = np.nanmean(x, axis=0)\n",
    "plt.plot(x)\n",
    "plt.show()"
   ]
  }
 ],
 "metadata": {
  "kernelspec": {
   "display_name": "Python 3 (ipykernel)",
   "language": "python",
   "name": "python3"
  },
  "language_info": {
   "codemirror_mode": {
    "name": "ipython",
    "version": 3
   },
   "file_extension": ".py",
   "mimetype": "text/x-python",
   "name": "python",
   "nbconvert_exporter": "python",
   "pygments_lexer": "ipython3",
   "version": "3.9.19"
  }
 },
 "nbformat": 4,
 "nbformat_minor": 1
}

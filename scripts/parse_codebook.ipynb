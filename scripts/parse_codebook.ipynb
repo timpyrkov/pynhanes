{
 "cells": [
  {
   "cell_type": "code",
   "execution_count": 1,
   "metadata": {},
   "outputs": [],
   "source": [
    "%reload_ext autoreload\n",
    "%autoreload 2\n",
    "\n",
    "import pynhanes"
   ]
  },
  {
   "cell_type": "markdown",
   "metadata": {},
   "source": [
    "## Scrape NHANES codebook"
   ]
  },
  {
   "cell_type": "code",
   "execution_count": 2,
   "metadata": {
    "scrolled": true
   },
   "outputs": [
    {
     "name": "stdout",
     "output_type": "stream",
     "text": [
      "Scraping (Demographics, 1999)...\n"
     ]
    },
    {
     "name": "stderr",
     "output_type": "stream",
     "text": [
      "100%|██████████| 1/1 [00:00<00:00,  2.80it/s]\n"
     ]
    },
    {
     "name": "stdout",
     "output_type": "stream",
     "text": [
      "Scraping (Questionnaire, 1999)...\n"
     ]
    },
    {
     "name": "stderr",
     "output_type": "stream",
     "text": [
      "100%|██████████| 44/44 [00:10<00:00,  4.08it/s]\n"
     ]
    },
    {
     "name": "stdout",
     "output_type": "stream",
     "text": [
      "Scraping (Examination, 1999)...\n"
     ]
    },
    {
     "name": "stderr",
     "output_type": "stream",
     "text": [
      "100%|██████████| 18/18 [00:04<00:00,  3.68it/s]\n"
     ]
    },
    {
     "name": "stdout",
     "output_type": "stream",
     "text": [
      "Scraping (Laboratory, 1999)...\n"
     ]
    },
    {
     "name": "stderr",
     "output_type": "stream",
     "text": [
      "100%|██████████| 55/55 [00:09<00:00,  6.06it/s]\n"
     ]
    },
    {
     "name": "stdout",
     "output_type": "stream",
     "text": [
      "Scraping (Dietary, 1999)...\n"
     ]
    },
    {
     "name": "stderr",
     "output_type": "stream",
     "text": [
      "100%|██████████| 8/8 [00:01<00:00,  5.53it/s]\n"
     ]
    },
    {
     "name": "stdout",
     "output_type": "stream",
     "text": [
      "Scraping (Demographics, 2001)...\n"
     ]
    },
    {
     "name": "stderr",
     "output_type": "stream",
     "text": [
      "100%|██████████| 1/1 [00:00<00:00,  4.94it/s]\n"
     ]
    },
    {
     "name": "stdout",
     "output_type": "stream",
     "text": [
      "Scraping (Questionnaire, 2001)...\n"
     ]
    },
    {
     "name": "stderr",
     "output_type": "stream",
     "text": [
      "100%|██████████| 45/45 [00:09<00:00,  4.92it/s]\n"
     ]
    },
    {
     "name": "stdout",
     "output_type": "stream",
     "text": [
      "Scraping (Examination, 2001)...\n"
     ]
    },
    {
     "name": "stderr",
     "output_type": "stream",
     "text": [
      "100%|██████████| 18/18 [00:05<00:00,  3.10it/s]\n"
     ]
    },
    {
     "name": "stdout",
     "output_type": "stream",
     "text": [
      "Scraping (Laboratory, 2001)...\n"
     ]
    },
    {
     "name": "stderr",
     "output_type": "stream",
     "text": [
      "100%|██████████| 76/76 [00:13<00:00,  5.59it/s]\n"
     ]
    },
    {
     "name": "stdout",
     "output_type": "stream",
     "text": [
      "Scraping (Dietary, 2001)...\n"
     ]
    },
    {
     "name": "stderr",
     "output_type": "stream",
     "text": [
      "100%|██████████| 8/8 [00:01<00:00,  4.84it/s]\n"
     ]
    },
    {
     "name": "stdout",
     "output_type": "stream",
     "text": [
      "Scraping (Demographics, 2003)...\n"
     ]
    },
    {
     "name": "stderr",
     "output_type": "stream",
     "text": [
      "100%|██████████| 1/1 [00:01<00:00,  1.28s/it]\n"
     ]
    },
    {
     "name": "stdout",
     "output_type": "stream",
     "text": [
      "Scraping (Questionnaire, 2003)...\n"
     ]
    },
    {
     "name": "stderr",
     "output_type": "stream",
     "text": [
      "100%|██████████| 45/45 [00:09<00:00,  4.61it/s]\n"
     ]
    },
    {
     "name": "stdout",
     "output_type": "stream",
     "text": [
      "Scraping (Examination, 2003)...\n"
     ]
    },
    {
     "name": "stderr",
     "output_type": "stream",
     "text": [
      "100%|██████████| 20/20 [00:06<00:00,  3.02it/s]\n"
     ]
    },
    {
     "name": "stdout",
     "output_type": "stream",
     "text": [
      "Scraping (Laboratory, 2003)...\n"
     ]
    },
    {
     "name": "stderr",
     "output_type": "stream",
     "text": [
      "100%|██████████| 77/77 [00:12<00:00,  6.12it/s]\n"
     ]
    },
    {
     "name": "stdout",
     "output_type": "stream",
     "text": [
      "Scraping (Dietary, 2003)...\n"
     ]
    },
    {
     "name": "stderr",
     "output_type": "stream",
     "text": [
      "100%|██████████| 15/15 [00:04<00:00,  3.53it/s]\n"
     ]
    },
    {
     "name": "stdout",
     "output_type": "stream",
     "text": [
      "Scraping (Demographics, 2005)...\n"
     ]
    },
    {
     "name": "stderr",
     "output_type": "stream",
     "text": [
      "100%|██████████| 1/1 [00:00<00:00,  3.68it/s]\n"
     ]
    },
    {
     "name": "stdout",
     "output_type": "stream",
     "text": [
      "Scraping (Questionnaire, 2005)...\n"
     ]
    },
    {
     "name": "stderr",
     "output_type": "stream",
     "text": [
      "100%|██████████| 44/44 [00:08<00:00,  5.25it/s]\n"
     ]
    },
    {
     "name": "stdout",
     "output_type": "stream",
     "text": [
      "Scraping (Examination, 2005)...\n"
     ]
    },
    {
     "name": "stderr",
     "output_type": "stream",
     "text": [
      "100%|██████████| 14/14 [00:04<00:00,  3.49it/s]\n"
     ]
    },
    {
     "name": "stdout",
     "output_type": "stream",
     "text": [
      "Scraping (Laboratory, 2005)...\n"
     ]
    },
    {
     "name": "stderr",
     "output_type": "stream",
     "text": [
      "100%|██████████| 67/67 [00:10<00:00,  6.61it/s]\n"
     ]
    },
    {
     "name": "stdout",
     "output_type": "stream",
     "text": [
      "Scraping (Dietary, 2005)...\n"
     ]
    },
    {
     "name": "stderr",
     "output_type": "stream",
     "text": [
      "100%|██████████| 15/15 [00:05<00:00,  2.82it/s]\n"
     ]
    },
    {
     "name": "stdout",
     "output_type": "stream",
     "text": [
      "Scraping (Demographics, 2007)...\n"
     ]
    },
    {
     "name": "stderr",
     "output_type": "stream",
     "text": [
      "100%|██████████| 1/1 [00:00<00:00,  3.11it/s]\n"
     ]
    },
    {
     "name": "stdout",
     "output_type": "stream",
     "text": [
      "Scraping (Questionnaire, 2007)...\n"
     ]
    },
    {
     "name": "stderr",
     "output_type": "stream",
     "text": [
      "100%|██████████| 45/45 [00:09<00:00,  4.91it/s]\n"
     ]
    },
    {
     "name": "stdout",
     "output_type": "stream",
     "text": [
      "Scraping (Examination, 2007)...\n"
     ]
    },
    {
     "name": "stderr",
     "output_type": "stream",
     "text": [
      "100%|██████████| 14/14 [00:04<00:00,  2.98it/s]\n"
     ]
    },
    {
     "name": "stdout",
     "output_type": "stream",
     "text": [
      "Scraping (Laboratory, 2007)...\n"
     ]
    },
    {
     "name": "stderr",
     "output_type": "stream",
     "text": [
      "100%|██████████| 63/63 [00:09<00:00,  6.55it/s]\n"
     ]
    },
    {
     "name": "stdout",
     "output_type": "stream",
     "text": [
      "Scraping (Dietary, 2007)...\n"
     ]
    },
    {
     "name": "stderr",
     "output_type": "stream",
     "text": [
      "100%|██████████| 15/15 [00:03<00:00,  3.99it/s]\n"
     ]
    },
    {
     "name": "stdout",
     "output_type": "stream",
     "text": [
      "Scraping (Demographics, 2009)...\n"
     ]
    },
    {
     "name": "stderr",
     "output_type": "stream",
     "text": [
      "100%|██████████| 1/1 [00:00<00:00,  2.60it/s]\n"
     ]
    },
    {
     "name": "stdout",
     "output_type": "stream",
     "text": [
      "Scraping (Questionnaire, 2009)...\n"
     ]
    },
    {
     "name": "stderr",
     "output_type": "stream",
     "text": [
      "100%|██████████| 46/46 [00:08<00:00,  5.49it/s]\n"
     ]
    },
    {
     "name": "stdout",
     "output_type": "stream",
     "text": [
      "Scraping (Examination, 2009)...\n"
     ]
    },
    {
     "name": "stderr",
     "output_type": "stream",
     "text": [
      "100%|██████████| 15/15 [00:05<00:00,  2.60it/s]\n"
     ]
    },
    {
     "name": "stdout",
     "output_type": "stream",
     "text": [
      "Scraping (Laboratory, 2009)...\n"
     ]
    },
    {
     "name": "stderr",
     "output_type": "stream",
     "text": [
      "100%|██████████| 69/69 [00:11<00:00,  5.79it/s]\n"
     ]
    },
    {
     "name": "stdout",
     "output_type": "stream",
     "text": [
      "Scraping (Dietary, 2009)...\n"
     ]
    },
    {
     "name": "stderr",
     "output_type": "stream",
     "text": [
      "100%|██████████| 16/16 [00:04<00:00,  3.49it/s]\n"
     ]
    },
    {
     "name": "stdout",
     "output_type": "stream",
     "text": [
      "Scraping (Demographics, 2011)...\n"
     ]
    },
    {
     "name": "stderr",
     "output_type": "stream",
     "text": [
      "100%|██████████| 1/1 [00:00<00:00,  4.46it/s]\n"
     ]
    },
    {
     "name": "stdout",
     "output_type": "stream",
     "text": [
      "Scraping (Questionnaire, 2011)...\n"
     ]
    },
    {
     "name": "stderr",
     "output_type": "stream",
     "text": [
      "100%|██████████| 44/44 [00:07<00:00,  5.51it/s]\n"
     ]
    },
    {
     "name": "stdout",
     "output_type": "stream",
     "text": [
      "Scraping (Examination, 2011)...\n"
     ]
    },
    {
     "name": "stderr",
     "output_type": "stream",
     "text": [
      "100%|██████████| 22/22 [00:05<00:00,  4.14it/s]\n"
     ]
    },
    {
     "name": "stdout",
     "output_type": "stream",
     "text": [
      "Scraping (Laboratory, 2011)...\n"
     ]
    },
    {
     "name": "stderr",
     "output_type": "stream",
     "text": [
      "100%|██████████| 75/75 [00:12<00:00,  6.21it/s]\n"
     ]
    },
    {
     "name": "stdout",
     "output_type": "stream",
     "text": [
      "Scraping (Dietary, 2011)...\n"
     ]
    },
    {
     "name": "stderr",
     "output_type": "stream",
     "text": [
      "100%|██████████| 15/15 [00:03<00:00,  4.38it/s]\n"
     ]
    },
    {
     "name": "stdout",
     "output_type": "stream",
     "text": [
      "Scraping (Demographics, 2013)...\n"
     ]
    },
    {
     "name": "stderr",
     "output_type": "stream",
     "text": [
      "100%|██████████| 1/1 [00:00<00:00,  5.08it/s]\n"
     ]
    },
    {
     "name": "stdout",
     "output_type": "stream",
     "text": [
      "Scraping (Questionnaire, 2013)...\n"
     ]
    },
    {
     "name": "stderr",
     "output_type": "stream",
     "text": [
      "100%|██████████| 44/44 [00:07<00:00,  5.69it/s]\n"
     ]
    },
    {
     "name": "stdout",
     "output_type": "stream",
     "text": [
      "Scraping (Examination, 2013)...\n"
     ]
    },
    {
     "name": "stderr",
     "output_type": "stream",
     "text": [
      "100%|██████████| 34/34 [00:10<00:00,  3.32it/s]\n"
     ]
    },
    {
     "name": "stdout",
     "output_type": "stream",
     "text": [
      "Scraping (Laboratory, 2013)...\n"
     ]
    },
    {
     "name": "stderr",
     "output_type": "stream",
     "text": [
      "100%|██████████| 97/97 [00:14<00:00,  6.54it/s]\n"
     ]
    },
    {
     "name": "stdout",
     "output_type": "stream",
     "text": [
      "Scraping (Dietary, 2013)...\n"
     ]
    },
    {
     "name": "stderr",
     "output_type": "stream",
     "text": [
      "100%|██████████| 14/14 [00:03<00:00,  3.53it/s]\n"
     ]
    },
    {
     "name": "stdout",
     "output_type": "stream",
     "text": [
      "Scraping (Demographics, 2015)...\n"
     ]
    },
    {
     "name": "stderr",
     "output_type": "stream",
     "text": [
      "100%|██████████| 1/1 [00:00<00:00,  4.35it/s]\n"
     ]
    },
    {
     "name": "stdout",
     "output_type": "stream",
     "text": [
      "Scraping (Questionnaire, 2015)...\n"
     ]
    },
    {
     "name": "stderr",
     "output_type": "stream",
     "text": [
      "100%|██████████| 41/41 [00:07<00:00,  5.80it/s]\n"
     ]
    },
    {
     "name": "stdout",
     "output_type": "stream",
     "text": [
      "Scraping (Examination, 2015)...\n"
     ]
    },
    {
     "name": "stderr",
     "output_type": "stream",
     "text": [
      "100%|██████████| 11/11 [00:04<00:00,  2.58it/s]\n"
     ]
    },
    {
     "name": "stdout",
     "output_type": "stream",
     "text": [
      "Scraping (Laboratory, 2015)...\n"
     ]
    },
    {
     "name": "stderr",
     "output_type": "stream",
     "text": [
      "100%|██████████| 86/86 [00:13<00:00,  6.33it/s]\n"
     ]
    },
    {
     "name": "stdout",
     "output_type": "stream",
     "text": [
      "Scraping (Dietary, 2015)...\n"
     ]
    },
    {
     "name": "stderr",
     "output_type": "stream",
     "text": [
      "100%|██████████| 14/14 [00:04<00:00,  3.20it/s]\n"
     ]
    },
    {
     "name": "stdout",
     "output_type": "stream",
     "text": [
      "Scraping (Demographics, 2017)...\n"
     ]
    },
    {
     "name": "stderr",
     "output_type": "stream",
     "text": [
      "100%|██████████| 1/1 [00:00<00:00,  2.24it/s]\n"
     ]
    },
    {
     "name": "stdout",
     "output_type": "stream",
     "text": [
      "Scraping (Questionnaire, 2017)...\n"
     ]
    },
    {
     "name": "stderr",
     "output_type": "stream",
     "text": [
      "100%|██████████| 44/44 [00:08<00:00,  5.15it/s]\n"
     ]
    },
    {
     "name": "stdout",
     "output_type": "stream",
     "text": [
      "Scraping (Examination, 2017)...\n"
     ]
    },
    {
     "name": "stderr",
     "output_type": "stream",
     "text": [
      "100%|██████████| 14/14 [00:05<00:00,  2.42it/s]\n"
     ]
    },
    {
     "name": "stdout",
     "output_type": "stream",
     "text": [
      "Scraping (Laboratory, 2017)...\n"
     ]
    },
    {
     "name": "stderr",
     "output_type": "stream",
     "text": [
      "100%|██████████| 55/55 [00:07<00:00,  6.96it/s]\n"
     ]
    },
    {
     "name": "stdout",
     "output_type": "stream",
     "text": [
      "Scraping (Dietary, 2017)...\n"
     ]
    },
    {
     "name": "stderr",
     "output_type": "stream",
     "text": [
      "100%|██████████| 14/14 [00:03<00:00,  4.41it/s]\n"
     ]
    },
    {
     "name": "stdout",
     "output_type": "stream",
     "text": [
      "Scraping (Demographics, 2019)...\n"
     ]
    },
    {
     "name": "stderr",
     "output_type": "stream",
     "text": [
      "0it [00:00, ?it/s]\n"
     ]
    },
    {
     "name": "stdout",
     "output_type": "stream",
     "text": [
      "Scraping (Questionnaire, 2019)...\n"
     ]
    },
    {
     "name": "stderr",
     "output_type": "stream",
     "text": [
      "100%|██████████| 1/1 [00:00<00:00, 32263.88it/s]\n"
     ]
    },
    {
     "name": "stdout",
     "output_type": "stream",
     "text": [
      "Scraping (Examination, 2019)...\n"
     ]
    },
    {
     "name": "stderr",
     "output_type": "stream",
     "text": [
      "0it [00:00, ?it/s]\n"
     ]
    },
    {
     "name": "stdout",
     "output_type": "stream",
     "text": [
      "Scraping (Laboratory, 2019)...\n"
     ]
    },
    {
     "name": "stderr",
     "output_type": "stream",
     "text": [
      "0it [00:00, ?it/s]\n"
     ]
    },
    {
     "name": "stdout",
     "output_type": "stream",
     "text": [
      "Scraping (Dietary, 2019)...\n"
     ]
    },
    {
     "name": "stderr",
     "output_type": "stream",
     "text": [
      "100%|██████████| 3/3 [00:00<00:00,  6.10it/s]\n"
     ]
    },
    {
     "name": "stdout",
     "output_type": "stream",
     "text": [
      "DONE\n"
     ]
    }
   ],
   "source": [
    "path = \"./CSV/nhanes_codebook.csv\"\n",
    "scrapper = pynhanes.scraper.NhanesScraper(recodebins=True)\n",
    "scrapper.to_csv(path)\n",
    "print(\"DONE\")"
   ]
  },
  {
   "cell_type": "markdown",
   "metadata": {},
   "source": [
    "## Load NHANES codebook"
   ]
  },
  {
   "cell_type": "code",
   "execution_count": 3,
   "metadata": {},
   "outputs": [
    {
     "data": {
      "text/html": [
       "<div>\n",
       "<style scoped>\n",
       "    .dataframe tbody tr th:only-of-type {\n",
       "        vertical-align: middle;\n",
       "    }\n",
       "\n",
       "    .dataframe tbody tr th {\n",
       "        vertical-align: top;\n",
       "    }\n",
       "\n",
       "    .dataframe thead th {\n",
       "        text-align: right;\n",
       "    }\n",
       "</style>\n",
       "<table border=\"1\" class=\"dataframe\">\n",
       "  <thead>\n",
       "    <tr style=\"text-align: right;\">\n",
       "      <th></th>\n",
       "      <th>name</th>\n",
       "      <th>category</th>\n",
       "      <th>category_name</th>\n",
       "      <th>codebook</th>\n",
       "      <th>icodebook</th>\n",
       "    </tr>\n",
       "    <tr>\n",
       "      <th>code</th>\n",
       "      <th></th>\n",
       "      <th></th>\n",
       "      <th></th>\n",
       "      <th></th>\n",
       "      <th></th>\n",
       "    </tr>\n",
       "  </thead>\n",
       "  <tbody>\n",
       "    <tr>\n",
       "      <th>URD2NPLC</th>\n",
       "      <td>2-Aminonaphthalene, urine Comment Code</td>\n",
       "      <td>AAS</td>\n",
       "      <td>Aromatic Amines - Urine - Special Sample</td>\n",
       "      <td>{'0': 'At or above detection limit', '1': 'Bel...</td>\n",
       "      <td>{0: 'At or above detection limit', 1: 'Below l...</td>\n",
       "    </tr>\n",
       "    <tr>\n",
       "      <th>URX1NP</th>\n",
       "      <td>1-Aminonaphthalene, urine (pg/mL)</td>\n",
       "      <td>AAS</td>\n",
       "      <td>Aromatic Amines - Urine - Special Sample</td>\n",
       "      <td>{'0.91 to 441': 'Range of Values', '0.91 to 49...</td>\n",
       "      <td>{}</td>\n",
       "    </tr>\n",
       "    <tr>\n",
       "      <th>URD1NPLC</th>\n",
       "      <td>1-Aminonaphthalene, urine Comment Code</td>\n",
       "      <td>AAS</td>\n",
       "      <td>Aromatic Amines - Urine - Special Sample</td>\n",
       "      <td>{'0': 'At or above detection limit', '1': 'Bel...</td>\n",
       "      <td>{0: 'At or above detection limit', 1: 'Below l...</td>\n",
       "    </tr>\n",
       "    <tr>\n",
       "      <th>URX2NP</th>\n",
       "      <td>2-Aminonaphthalene, urine (pg/mL)</td>\n",
       "      <td>AAS</td>\n",
       "      <td>Aromatic Amines - Urine - Special Sample</td>\n",
       "      <td>{'1.97 to 428': 'Range of Values', '.': 'Missi...</td>\n",
       "      <td>{}</td>\n",
       "    </tr>\n",
       "    <tr>\n",
       "      <th>URX4BP</th>\n",
       "      <td>4-Aminobiphenyl, urine (pg/mL)</td>\n",
       "      <td>AAS</td>\n",
       "      <td>Aromatic Amines - Urine - Special Sample</td>\n",
       "      <td>{'1.24 to 1310': 'Range of Values', '.': 'Miss...</td>\n",
       "      <td>{}</td>\n",
       "    </tr>\n",
       "    <tr>\n",
       "      <th>...</th>\n",
       "      <td>...</td>\n",
       "      <td>...</td>\n",
       "      <td>...</td>\n",
       "      <td>...</td>\n",
       "      <td>...</td>\n",
       "    </tr>\n",
       "    <tr>\n",
       "      <th>LBXWP8</th>\n",
       "      <td>Perchlorate, water (ng/mL)</td>\n",
       "      <td>WPIN</td>\n",
       "      <td>Perchlorate, Nitrate &amp; Iodide - Tap Water</td>\n",
       "      <td>{'0.07 to 18.2': 'Range of Values', '.': 'Miss...</td>\n",
       "      <td>{}</td>\n",
       "    </tr>\n",
       "    <tr>\n",
       "      <th>LBDWNOLC</th>\n",
       "      <td>Nitrate, water comment code</td>\n",
       "      <td>WPIN</td>\n",
       "      <td>Perchlorate, Nitrate &amp; Iodide - Tap Water</td>\n",
       "      <td>{'0': 'At or above the detection limit', '1': ...</td>\n",
       "      <td>{0: 'At or above the detection limit', 1: 'Bel...</td>\n",
       "    </tr>\n",
       "    <tr>\n",
       "      <th>LBXWNO</th>\n",
       "      <td>Nitrate, water (ng/mL)</td>\n",
       "      <td>WPIN</td>\n",
       "      <td>Perchlorate, Nitrate &amp; Iodide - Tap Water</td>\n",
       "      <td>{'494.97 to 80500': 'Range of Values', '.': 'M...</td>\n",
       "      <td>{}</td>\n",
       "    </tr>\n",
       "    <tr>\n",
       "      <th>LBDWIOLC</th>\n",
       "      <td>Iodide, water comment code</td>\n",
       "      <td>WPIN</td>\n",
       "      <td>Perchlorate, Nitrate &amp; Iodide - Tap Water</td>\n",
       "      <td>{'0': 'At or above the detection limit', '1': ...</td>\n",
       "      <td>{0: 'At or above the detection limit', 1: 'Bel...</td>\n",
       "    </tr>\n",
       "    <tr>\n",
       "      <th>LBXWIO</th>\n",
       "      <td>Iodide, water (ng/mL)</td>\n",
       "      <td>WPIN</td>\n",
       "      <td>Perchlorate, Nitrate &amp; Iodide - Tap Water</td>\n",
       "      <td>{'0.14 to 904': 'Range of Values', '.': 'Missi...</td>\n",
       "      <td>{}</td>\n",
       "    </tr>\n",
       "  </tbody>\n",
       "</table>\n",
       "<p>12485 rows × 5 columns</p>\n",
       "</div>"
      ],
      "text/plain": [
       "                                            name category  \\\n",
       "code                                                        \n",
       "URD2NPLC  2-Aminonaphthalene, urine Comment Code      AAS   \n",
       "URX1NP         1-Aminonaphthalene, urine (pg/mL)      AAS   \n",
       "URD1NPLC  1-Aminonaphthalene, urine Comment Code      AAS   \n",
       "URX2NP         2-Aminonaphthalene, urine (pg/mL)      AAS   \n",
       "URX4BP            4-Aminobiphenyl, urine (pg/mL)      AAS   \n",
       "...                                          ...      ...   \n",
       "LBXWP8                Perchlorate, water (ng/mL)     WPIN   \n",
       "LBDWNOLC             Nitrate, water comment code     WPIN   \n",
       "LBXWNO                    Nitrate, water (ng/mL)     WPIN   \n",
       "LBDWIOLC              Iodide, water comment code     WPIN   \n",
       "LBXWIO                     Iodide, water (ng/mL)     WPIN   \n",
       "\n",
       "                                      category_name  \\\n",
       "code                                                  \n",
       "URD2NPLC  Aromatic Amines - Urine - Special Sample    \n",
       "URX1NP    Aromatic Amines - Urine - Special Sample    \n",
       "URD1NPLC  Aromatic Amines - Urine - Special Sample    \n",
       "URX2NP    Aromatic Amines - Urine - Special Sample    \n",
       "URX4BP    Aromatic Amines - Urine - Special Sample    \n",
       "...                                             ...   \n",
       "LBXWP8    Perchlorate, Nitrate & Iodide - Tap Water   \n",
       "LBDWNOLC  Perchlorate, Nitrate & Iodide - Tap Water   \n",
       "LBXWNO    Perchlorate, Nitrate & Iodide - Tap Water   \n",
       "LBDWIOLC  Perchlorate, Nitrate & Iodide - Tap Water   \n",
       "LBXWIO    Perchlorate, Nitrate & Iodide - Tap Water   \n",
       "\n",
       "                                                   codebook  \\\n",
       "code                                                          \n",
       "URD2NPLC  {'0': 'At or above detection limit', '1': 'Bel...   \n",
       "URX1NP    {'0.91 to 441': 'Range of Values', '0.91 to 49...   \n",
       "URD1NPLC  {'0': 'At or above detection limit', '1': 'Bel...   \n",
       "URX2NP    {'1.97 to 428': 'Range of Values', '.': 'Missi...   \n",
       "URX4BP    {'1.24 to 1310': 'Range of Values', '.': 'Miss...   \n",
       "...                                                     ...   \n",
       "LBXWP8    {'0.07 to 18.2': 'Range of Values', '.': 'Miss...   \n",
       "LBDWNOLC  {'0': 'At or above the detection limit', '1': ...   \n",
       "LBXWNO    {'494.97 to 80500': 'Range of Values', '.': 'M...   \n",
       "LBDWIOLC  {'0': 'At or above the detection limit', '1': ...   \n",
       "LBXWIO    {'0.14 to 904': 'Range of Values', '.': 'Missi...   \n",
       "\n",
       "                                                  icodebook  \n",
       "code                                                         \n",
       "URD2NPLC  {0: 'At or above detection limit', 1: 'Below l...  \n",
       "URX1NP                                                   {}  \n",
       "URD1NPLC  {0: 'At or above detection limit', 1: 'Below l...  \n",
       "URX2NP                                                   {}  \n",
       "URX4BP                                                   {}  \n",
       "...                                                     ...  \n",
       "LBXWP8                                                   {}  \n",
       "LBDWNOLC  {0: 'At or above the detection limit', 1: 'Bel...  \n",
       "LBXWNO                                                   {}  \n",
       "LBDWIOLC  {0: 'At or above the detection limit', 1: 'Bel...  \n",
       "LBXWIO                                                   {}  \n",
       "\n",
       "[12485 rows x 5 columns]"
      ]
     },
     "execution_count": 3,
     "metadata": {},
     "output_type": "execute_result"
    }
   ],
   "source": [
    "path = \"./CSV/nhanes_codebook.csv\"\n",
    "codebook = pynhanes.CodeBook(path)\n",
    "codebook.data"
   ]
  },
  {
   "cell_type": "code",
   "execution_count": null,
   "metadata": {},
   "outputs": [],
   "source": []
  }
 ],
 "metadata": {
  "kernelspec": {
   "display_name": "Python 3 (ipykernel)",
   "language": "python",
   "name": "python3"
  },
  "language_info": {
   "codemirror_mode": {
    "name": "ipython",
    "version": 3
   },
   "file_extension": ".py",
   "mimetype": "text/x-python",
   "name": "python",
   "nbconvert_exporter": "python",
   "pygments_lexer": "ipython3",
   "version": "3.9.19"
  }
 },
 "nbformat": 4,
 "nbformat_minor": 1
}
